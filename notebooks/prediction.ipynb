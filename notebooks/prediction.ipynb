{
 "cells": [
  {
   "cell_type": "code",
   "execution_count": 1,
   "metadata": {},
   "outputs": [],
   "source": [
    "import os.path\n",
    "from glob import glob\n",
    "import numpy as np\n",
    "import pandas as pd\n",
    "from sklearn.model_selection import train_test_split\n",
    "import os.path\n",
    "import pickle\n",
    "import time\n",
    "import datetime as dt\n",
    "\n",
    "DATA_DIR = '../data/'\n",
    "DATA_COMBINED = os.path.join(DATA_DIR, 'combined/combined_data.csv')\n",
    "DATA_FILES = glob(os.path.join(DATA_DIR, '*.csv'))\n",
    "DATA_FILE_CURR = DATA_FILES[-1]\n",
    "SAVE_DIR = '../models'\n",
    "if not os.path.isdir(SAVE_DIR):\n",
    "    os.makedirs(SAVE_DIR)\n",
    "    \n",
    "REQ = ['HomeTeam','AwayTeam','HTHG','HTAG','HTR','FTHG','FTAG','FTR',\n",
    "       'HS','HST','AST','HC','AC','HF','AF','HY','AY','HR','AR']\n",
    "\n",
    "HOME_TEAM = 'leicester'\n",
    "AWAY_TEAM = 'arsenal'"
   ]
  },
  {
   "cell_type": "code",
   "execution_count": 2,
   "metadata": {},
   "outputs": [],
   "source": [
    "def load_data(file=None):\n",
    "    if file:\n",
    "        data = pd.read_csv(file, usecols=REQ)\n",
    "        data = data[pd.notnull(data['HomeTeam'])]\n",
    "        return data\n",
    "    datasets = []\n",
    "    for f in DATA_FILES:\n",
    "        d = pd.read_csv(f, usecols=REQ)\n",
    "        d = d[pd.notnull(d['HomeTeam'])]\n",
    "        datasets.append(d)\n",
    "    datasets = pd.concat(datasets, sort=False)\n",
    "    return datasets"
   ]
  },
  {
   "cell_type": "code",
   "execution_count": 3,
   "metadata": {},
   "outputs": [],
   "source": [
    "def get_teams():\n",
    "    df = load_data()\n",
    "    teams = df['HomeTeam'].values.tolist() + df['AwayTeam'].values.tolist()\n",
    "    return list(set(teams))"
   ]
  },
  {
   "cell_type": "code",
   "execution_count": 4,
   "metadata": {},
   "outputs": [],
   "source": [
    "def get_index(teams, tag):\n",
    "    tag = tag.title()\n",
    "    indexes = [idx for idx,team in enumerate(teams) if team==tag]\n",
    "    return indexes"
   ]
  },
  {
   "cell_type": "code",
   "execution_count": 5,
   "metadata": {},
   "outputs": [],
   "source": [
    "def make_numeric(df):\n",
    "    def convert(v):\n",
    "        return numeric[v]\n",
    "    for col in df.columns.values:\n",
    "        numeric = {}\n",
    "        if df[col].dtype != np.int64 and df[col].dtype != np.float64:\n",
    "            vals = set(df[col].values.tolist())\n",
    "            x = 0\n",
    "            for v in vals:\n",
    "                if v not in numeric:\n",
    "                    numeric[v] = x\n",
    "                    x += 1\n",
    "            df[col] = list(map(convert, df[col]))\n",
    "    return df"
   ]
  },
  {
   "cell_type": "code",
   "execution_count": 6,
   "metadata": {},
   "outputs": [],
   "source": [
    "def make_features(home, away):\n",
    "    df = load_data()\n",
    "    df.drop(['FTR'], axis=1, inplace=True)\n",
    "    home_teams = df['HomeTeam'].values\n",
    "    away_teams = df['AwayTeam'].values\n",
    "    df = make_numeric(df)\n",
    "    home_index = get_index(home_teams.tolist(), home)\n",
    "    away_index = get_index(away_teams.tolist(), away)\n",
    "    home_data = df.values[home_index]\n",
    "    away_data = df.values[away_index]\n",
    "    home_data = np.average(home_data, axis=0)\n",
    "    away_data = np.average(away_data, axis=0)\n",
    "    return home_data, away_data "
   ]
  },
  {
   "cell_type": "code",
   "execution_count": 7,
   "metadata": {},
   "outputs": [],
   "source": [
    "def preprocess(file=None, test_size=None, train_size=None, saveCsv=False):\n",
    "    data = load_data(file)\n",
    "    X = data.drop(['FTR'], axis=1)\n",
    "    X = make_numeric(X)\n",
    "    X.fillna(0, inplace=True)\n",
    "    if saveCsv:\n",
    "        X.to_csv(DATA_COMBINED)\n",
    "    y = data['FTR']\n",
    "    X_train, X_test, y_train, y_test = train_test_split(X, y,\n",
    "                                                       test_size=test_size,\n",
    "                                                       train_size=train_size,\n",
    "                                                       random_state=42)\n",
    "    X_train = np.array(X_train)\n",
    "    X_test = np.array(X_test)\n",
    "    y_train = np.array(y_train)\n",
    "    y_test = np.array(y_test)\n",
    "    return X_train, X_test, y_train, y_test\n",
    "    "
   ]
  },
  {
   "cell_type": "code",
   "execution_count": 8,
   "metadata": {},
   "outputs": [],
   "source": [
    "def train(clf, X_train, y_train):\n",
    "    start = time.time()\n",
    "    clf.fit(X_train, y_train)\n",
    "    end = time.time()\n",
    "    print('Training time {:.04f} secs'.format(end - start))\n",
    "    return clf"
   ]
  },
  {
   "cell_type": "code",
   "execution_count": 9,
   "metadata": {},
   "outputs": [],
   "source": [
    "def test(clf, X_test, y_test):\n",
    "    accuracy = clf.score(X_test, y_test)\n",
    "    return accuracy"
   ]
  },
  {
   "cell_type": "code",
   "execution_count": 10,
   "metadata": {},
   "outputs": [],
   "source": [
    "def predict(clf, X):\n",
    "    prediction = clf.predict(X)\n",
    "    return prediction"
   ]
  },
  {
   "cell_type": "code",
   "execution_count": 11,
   "metadata": {},
   "outputs": [],
   "source": [
    "def train_predict(clf, X_train, y_train, X):\n",
    "    train(clf, X_train, y_train)\n",
    "    return predict(clf, X)"
   ]
  },
  {
   "cell_type": "code",
   "execution_count": 12,
   "metadata": {},
   "outputs": [],
   "source": [
    "def save_model(clf):\n",
    "    now = dt.datetime.now()\n",
    "    now = str(now.year)+'-'+str(now.month)+'-'+str(now.day)+'_'+str(now.hour)+':'+str(now.minute)\n",
    "    name = str(clf)\n",
    "    name = name[:name.index('(')]\n",
    "    name = name+'_'+now\n",
    "    file = os.path.join(SAVE_DIR, '{}.pkl'.format(name))\n",
    "    f = open(file, 'wb')\n",
    "    pickle.dump(clf, f)\n",
    "    f.close()\n",
    "    print('Model saved:', file)"
   ]
  },
  {
   "cell_type": "code",
   "execution_count": 13,
   "metadata": {},
   "outputs": [],
   "source": [
    "def main():\n",
    "    from sklearn.ensemble import AdaBoostClassifier\n",
    "    \n",
    "    all_teams = get_teams()\n",
    "    i=1\n",
    "    print('Teams:')\n",
    "    for t in all_teams:\n",
    "        print(i, t)\n",
    "        i+=1\n",
    "        \n",
    "    X_train, X_test, y_train, y_test = preprocess(file=None, \n",
    "                                                 test_size=0.2,\n",
    "                                                 saveCsv=True)\n",
    "    print('Training:', X_train.shape, y_train.shape)\n",
    "    print('Test:', X_test.shape, y_test.shape)\n",
    "    \n",
    "    home_team = HOME_TEAM\n",
    "    away_team = AWAY_TEAM\n",
    "    \n",
    "    X = make_features(home=home_team, away=away_team)\n",
    "    print('Predicting for {} vs {}'.format(home_team, away_team))\n",
    "    \n",
    "    try:\n",
    "        clf = AdaBoostClassifier(n_estimators=500, learning_rate=1e-2)\n",
    "        train(clf, X_train, y_train)\n",
    "        accuracy = test(clf, X_test, y_test)\n",
    "        print('Accuracy = {:.02%}'.format(accuracy))\n",
    "        prediction = predict(clf, X)\n",
    "        print('Prediction:', prediction)\n",
    "        save_model(clf)\n",
    "    except Exception as e:\n",
    "        import sys\n",
    "        sys.stderr.write(str(e))\n",
    "        sys.stderr.flush()"
   ]
  },
  {
   "cell_type": "code",
   "execution_count": 14,
   "metadata": {},
   "outputs": [
    {
     "name": "stdout",
     "output_type": "stream",
     "text": [
      "Teams:\n",
      "1 Everton\n",
      "2 Southampton\n",
      "3 Birmingham\n",
      "4 Chelsea\n",
      "5 Leicester\n",
      "6 Stoke\n",
      "7 West Ham\n",
      "8 Arsenal\n",
      "9 Watford\n",
      "10 West Brom\n",
      "11 Hull\n",
      "12 Crystal Palace\n",
      "13 Bolton\n",
      "14 Reading\n",
      "15 Wolves\n",
      "16 Man United\n",
      "17 Bournemouth\n",
      "18 Blackpool\n",
      "19 Brighton\n",
      "20 Sheffield United\n",
      "21 Middlesbrough\n",
      "22 Swansea\n",
      "23 Fulham\n",
      "24 Norwich\n",
      "25 Huddersfield\n",
      "26 Sunderland\n",
      "27 Newcastle\n",
      "28 QPR\n",
      "29 Blackburn\n",
      "30 Liverpool\n",
      "31 Aston Villa\n",
      "32 Burnley\n",
      "33 Wigan\n",
      "34 Cardiff\n",
      "35 Tottenham\n",
      "36 Man City\n",
      "Training: (2903, 18) (2903,)\n",
      "Test: (726, 18) (726,)\n",
      "Predicting for leicester vs arsenal\n",
      "Training time 2.3634 secs\n",
      "Accuracy = 80.72%\n",
      "Prediction: ['H' 'A']\n",
      "Model saved: models/AdaBoostClassifier_2020-1-11_20:21.pkl\n"
     ]
    }
   ],
   "source": [
    "if __name__ == '__main__':\n",
    "    main()"
   ]
  }
 ],
 "metadata": {
  "kernelspec": {
   "display_name": "Python 3",
   "language": "python",
   "name": "python3"
  },
  "language_info": {
   "codemirror_mode": {
    "name": "ipython",
    "version": 3
   },
   "file_extension": ".py",
   "mimetype": "text/x-python",
   "name": "python",
   "nbconvert_exporter": "python",
   "pygments_lexer": "ipython3",
   "version": "3.7.0"
  }
 },
 "nbformat": 4,
 "nbformat_minor": 2
}
